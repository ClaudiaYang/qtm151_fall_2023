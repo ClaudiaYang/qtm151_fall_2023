{
 "cells": [
  {
   "attachments": {},
   "cell_type": "markdown",
   "metadata": {},
   "source": [
    "# Assignment 7"
   ]
  },
  {
   "attachments": {},
   "cell_type": "markdown",
   "metadata": {},
   "source": [
    "## Try to submit as an HTML file"
   ]
  },
  {
   "attachments": {},
   "cell_type": "markdown",
   "metadata": {},
   "source": [
    "<font size = \"5\">\n",
    "Print your name below"
   ]
  },
  {
   "cell_type": "code",
   "execution_count": 3,
   "metadata": {},
   "outputs": [
    {
     "name": "stdout",
     "output_type": "stream",
     "text": [
      "Claudia Yang\n"
     ]
    }
   ],
   "source": [
    "# Write your answer here:\n",
    "print(\"Claudia Yang\")"
   ]
  },
  {
   "attachments": {},
   "cell_type": "markdown",
   "metadata": {},
   "source": [
    "<font size = \"5\">\n",
    "\n",
    "Import the \"pandas\" and \"numpy\" library"
   ]
  },
  {
   "cell_type": "code",
   "execution_count": 2,
   "metadata": {},
   "outputs": [],
   "source": [
    "# Write your answer here:\n",
    "import numpy as np\n",
    "import pandas as pd"
   ]
  },
  {
   "attachments": {},
   "cell_type": "markdown",
   "metadata": {},
   "source": [
    "<font size = \"5\">\n",
    "\n",
    "(a) Replace values from intervals\n",
    "\n",
    "<font size = \"3\">\n",
    "\n",
    "- Import the dataset \"data_raw/students.csv\" to a new object \"students\"\n",
    "- Use \"pd.cut()\" to assign the column \"numericgrade\" to a letter grade <br>\n",
    "using the following table\n",
    "\n",
    "<img src=\"figures/grading_scale.png\" alt=\"drawing\" width=\"600\"/>\n",
    "\n",
    "HINT: See Lecture 12"
   ]
  },
  {
   "cell_type": "code",
   "execution_count": 3,
   "metadata": {},
   "outputs": [
    {
     "name": "stdout",
     "output_type": "stream",
     "text": [
      "    studentid  numericgrade letter_grade\n",
      "0           1            61           C-\n",
      "1           2             0            F\n",
      "2           3            14            F\n",
      "3           4            57            D\n",
      "4           5            72           C+\n",
      "5           6            93            A\n",
      "6           7            40            F\n",
      "7           8            11            F\n",
      "8           9             3            F\n",
      "9          10            63           C-\n",
      "10         11             7            F\n",
      "11         12            46            F\n",
      "12         13            75           B-\n",
      "13         14            95            A\n",
      "14         15            22            F\n",
      "15         16            40            F\n",
      "16         17            53            F\n",
      "17         18            57            D\n",
      "18         19            82            B\n",
      "19         20            50            F\n",
      "20         21             8            F\n",
      "21         22            87           A-\n",
      "22         23            82            B\n",
      "23         24            30            F\n",
      "24         25            62           C-\n"
     ]
    }
   ],
   "source": [
    "# Write your answer here:\n",
    "students = pd.read_csv(\"data_raw/students.csv\")\n",
    "\n",
    "bins_x = [-1,54,59,64,69,74,79,82,86,92,100]\n",
    "labels_x = [\"F\",\"D\",\"C-\",\"C\",\"C+\",\"B-\",\"B\",\"B+\",\"A-\",\"A\"]\n",
    "students[\"letter_grade\"] = pd.cut(students[\"numericgrade\"],\n",
    "                                  bins = bins_x,\n",
    "                                  right = True,\n",
    "                                  labels = labels_x)\n",
    "\n",
    "print(students)"
   ]
  },
  {
   "attachments": {},
   "cell_type": "markdown",
   "metadata": {},
   "source": [
    "<font size = \"5\">\n",
    "\n",
    "For questions (b)-(e) use \"sprint_results.csv\", <br>\n",
    "a dataset on competitive car racing\n",
    "\n",
    "Import the dataset \"data_raw/sprint_results.csv\" to <br>\n",
    " a new object \"sprint_results\""
   ]
  },
  {
   "cell_type": "code",
   "execution_count": 4,
   "metadata": {},
   "outputs": [],
   "source": [
    "# Write your own code\n",
    "sprint_results = pd.read_csv(\"data_raw/sprint_results.csv\")\n"
   ]
  },
  {
   "attachments": {},
   "cell_type": "markdown",
   "metadata": {},
   "source": [
    "<font size = \"5\">\n",
    "\n",
    "(b) Check column types\n",
    "\n",
    "<font size = \"3\">\n",
    "\n",
    "- View the dataset\n",
    "- Use the function `sprint_results.dtypes` to get the column data types\n",
    "- Search for the \"sprint_results\" table in \"codebook/f1_codebook.pdf\".\n",
    "- **Print if the type of the \"position\" column agree with the codebook?** <br>\n",
    "i.e. is it an integer, float, or string/object?\n",
    "\n",
    "HINT: See Lectures 12 and 13 for how to interpret the codebook\n",
    "\n",
    "- Print the difference you observed between the codebook and the new dataframe you have created.\n",
    "\n",
    "---\n",
    "**Optional**\n",
    "- Convert this `sprint_results.dtypes` object type into DataFrame and  the datatype of `position`.\n",
    "- HINT: Use pd.DataFrame().reset_index <br>\n",
    "`reset_index` is to convert the index to a column \n",
    "---\n",
    "\n",
    "\n",
    "\n",
    "\n",
    "\n",
    "<span style = \"color:blue\"> There are other columns that has disparity with the codebook.\\\n",
    "Feel free to explore them! </span>"
   ]
  },
  {
   "cell_type": "code",
   "execution_count": 6,
   "metadata": {},
   "outputs": [
    {
     "name": "stdout",
     "output_type": "stream",
     "text": [
      "resultId           int64\n",
      "raceId             int64\n",
      "driverId           int64\n",
      "constructorId      int64\n",
      "number             int64\n",
      "grid               int64\n",
      "position          object\n",
      "positionText      object\n",
      "positionOrder      int64\n",
      "points             int64\n",
      "laps               int64\n",
      "time              object\n",
      "milliseconds      object\n",
      "fastestLap        object\n",
      "fastestLapTime    object\n",
      "statusId           int64\n",
      "dtype: object\n",
      "0       True\n",
      "1       True\n",
      "2       True\n",
      "3       True\n",
      "4       True\n",
      "       ...  \n",
      "115     True\n",
      "116     True\n",
      "117     True\n",
      "118     True\n",
      "119    False\n",
      "Name: position, Length: 120, dtype: bool\n",
      "\\N\n",
      "In the code book, the position is an integer, here the position is an object\n"
     ]
    }
   ],
   "source": [
    "# Write your own code here\n",
    "# Note: When you run \"sprint_results.dtypes\" you will get the type (int, float, object)\n",
    "# Object represents columns coded as strings.\n",
    "print(sprint_results.dtypes)\n",
    "\n",
    "print(sprint_results['position'].str.isnumeric())\n",
    "print(sprint_results['position'][119])\n",
    "type(sprint_results['position'][119])\n",
    "print(\"In the code book, the position is an integer, here the position is an object\")"
   ]
  },
  {
   "attachments": {},
   "cell_type": "markdown",
   "metadata": {},
   "source": [
    "<font size = \"5\">\n",
    "\n",
    "(c) Clean a column\n",
    "\n",
    "<font size = \"3\">\n",
    "\n",
    "- Our goal is to replace any string values in the column \"position\" <br>\n",
    "to missing values (NaNs) and covert to numeric\n",
    "\n",
    "- To do so\n",
    "    1. Extract list of non-numeric values\n",
    "    2. Replace certain list of values\n",
    "    3. Convert column to numeric\n",
    "    4. Display\n"
   ]
  },
  {
   "cell_type": "code",
   "execution_count": 8,
   "metadata": {},
   "outputs": [
    {
     "name": "stdout",
     "output_type": "stream",
     "text": [
      "['\\\\N']\n"
     ]
    }
   ],
   "source": [
    "# Write your own code here\n",
    "# Create and store a list of non-numeric values\n",
    "subset = sprint_results.query(\"position.str.isnumeric()==False\")\n",
    "list_unique = pd.unique(subset[\"position\"])\n",
    "print(list_unique)"
   ]
  },
  {
   "cell_type": "code",
   "execution_count": 9,
   "metadata": {},
   "outputs": [
    {
     "name": "stdout",
     "output_type": "stream",
     "text": [
      "0       1.0\n",
      "1       2.0\n",
      "2       3.0\n",
      "3       4.0\n",
      "4       5.0\n",
      "       ... \n",
      "115    16.0\n",
      "116    17.0\n",
      "117    18.0\n",
      "118    19.0\n",
      "119     NaN\n",
      "Name: position_numeric, Length: 120, dtype: float64\n"
     ]
    }
   ],
   "source": [
    "# Create a list for replacement\n",
    "list_old = ['\\\\N']\n",
    "list_new = [np.nan]\n",
    "sprint_results[\"position\"] = sprint_results[\"position\"].replace(list_old, list_new)\n",
    "sprint_results[\"position_numeric\"] = pd.to_numeric(sprint_results[\"position\"])\n",
    "\n",
    "print(sprint_results[\"position_numeric\"])"
   ]
  },
  {
   "attachments": {},
   "cell_type": "markdown",
   "metadata": {},
   "source": [
    "<font size = \"5\">\n",
    "\n",
    "(d) Groupby + Aggregate\n",
    "\n",
    "<font size = \"3\">\n",
    "\n",
    "- Compute the mean and standard deviation of \"position\", <br>\n",
    "grouping by \"constructorId\". Store the new dataset <br>\n",
    "as \"df_aggConstrcId_pos\"\n",
    "\n",
    "- Sort the aggregate dataset in ascending <br>\n",
    "order of mean position using \".sort_values()\" <br>\n",
    "(i.e., to find the constructor with drivers having the best mean positions)\n",
    "\n",
    "- Display\n",
    "\n",
    "- Print which constructorId has the lowest mean position.\n",
    "\n",
    "HINT: See Lecture 13 <br>\n"
   ]
  },
  {
   "cell_type": "code",
   "execution_count": 12,
   "metadata": {},
   "outputs": [
    {
     "name": "stdout",
     "output_type": "stream",
     "text": [
      "                    mean        sd\n",
      "constructorId                     \n",
      "9               3.363636  2.419617\n",
      "6               4.750000  2.734460\n",
      "131             4.833333  4.174236\n",
      "1               7.250000  3.137022\n",
      "214            11.636364  4.006812\n",
      "117            12.750000  3.165869\n",
      "51             13.000000  3.549648\n",
      "210            13.833333  5.236816\n",
      "213            13.909091  2.981763\n",
      "3              16.181818  2.857208\n",
      "mean    3.363636\n",
      "sd      2.419617\n",
      "Name: 9, dtype: float64\n"
     ]
    }
   ],
   "source": [
    "# Write your own code\n",
    "df_aggConstrcId_pos = (sprint_results.groupby(\"constructorId\")\n",
    "                                     .agg(mean = ('position_numeric','mean'),\n",
    "                                          sd = ('position_numeric','std')))\n",
    "sorted = df_aggConstrcId_pos.sort_values(by='mean', ascending=True)\n",
    "print(sorted)\n",
    "lowest_mean_position = sorted.iloc[0]\n",
    "print(lowest_mean_position)\n"
   ]
  },
  {
   "attachments": {},
   "cell_type": "markdown",
   "metadata": {},
   "source": [
    "<font size = \"5\" >\n",
    "\n",
    "(d) Query + Groupby + Aggregate\n",
    "\n",
    "<font size = \"3\">\n",
    "\n",
    "- Use \".query()\" to subset observations with <br>\n",
    "'race_id >= 100'\n",
    "\n",
    "- Compute the mean and standard deviation of \"position\", <br>\n",
    "grouping by \"constructorId\". Store the new dataset <br>\n",
    "as \"df_subAggConstr_pos\"\n",
    "\n",
    "- Display\n",
    "\n",
    "Hint: See Lectures 9 and 11 (to refresh \".query()\") and <br>\n",
    "Lecture 13 for how to combine it with \".groupby()\""
   ]
  },
  {
   "cell_type": "code",
   "execution_count": 17,
   "metadata": {},
   "outputs": [
    {
     "name": "stdout",
     "output_type": "stream",
     "text": [
      "                    mean        sd\n",
      "constructorId                     \n",
      "1               7.250000  3.137022\n",
      "3              16.181818  2.857208\n",
      "6               4.750000  2.734460\n",
      "9               3.363636  2.419617\n",
      "51             13.000000  3.549648\n",
      "117            12.750000  3.165869\n",
      "131             4.833333  4.174236\n",
      "210            13.833333  5.236816\n",
      "213            13.909091  2.981763\n",
      "214            11.636364  4.006812\n"
     ]
    }
   ],
   "source": [
    "# Write your own code\n",
    "filtered = sprint_results.query(\"raceId>=100\")\n",
    "df_subAggConstrc_pos = (filtered.groupby('constructorId')\n",
    "                                .agg(mean = ('position_numeric','mean'),\n",
    "                                 sd = ('position_numeric','std')))\n",
    "\n",
    "print(df_subAggConstrc_pos)"
   ]
  }
 ],
 "metadata": {
  "kernelspec": {
   "display_name": "base",
   "language": "python",
   "name": "python3"
  },
  "language_info": {
   "codemirror_mode": {
    "name": "ipython",
    "version": 3
   },
   "file_extension": ".py",
   "mimetype": "text/x-python",
   "name": "python",
   "nbconvert_exporter": "python",
   "pygments_lexer": "ipython3",
   "version": "3.11.4"
  },
  "orig_nbformat": 4,
  "vscode": {
   "interpreter": {
    "hash": "45fc1f684f6f416f40889115beff3ddf69879b64cf4bfee48cb72a61e9d15d1a"
   }
  }
 },
 "nbformat": 4,
 "nbformat_minor": 2
}
